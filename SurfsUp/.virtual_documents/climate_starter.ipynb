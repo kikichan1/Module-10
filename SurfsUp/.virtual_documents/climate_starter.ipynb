%matplotlib inline
from matplotlib import style
style.use('fivethirtyeight')
import matplotlib.pyplot as plt


import numpy as np
import pandas as pd
import datetime as dt





# Python SQL toolkit and Object Relational Mapper
import sqlalchemy
from sqlalchemy.ext.automap import automap_base
from sqlalchemy.orm import Session
from sqlalchemy import create_engine, func
from sqlalchemy import create_engine, inspect


# create engine to hawaii.sqlite
engine = create_engine("sqlite:///Resources/hawaii.sqlite")


# reflect an existing database into a new model
Base = automap_base()
# reflect the tables
Base.prepare(autoload_with=engine)


# View all of the classes that automap found
Base.classes.keys()


# Save references to each table
station = Base.classes.station
measurement = Base.classes.measurement


# Create our session (link) from Python to the DB
session = Session(engine)


# Use the inspector to get the column name and type of the 'station' and measurement tables
inspector = inspect(engine)
print("Column name and type in 'station' table:")
columns = inspector.get_columns('station')
for column in columns:
    print(column["name"], column["type"])

print("\nColumn name and type in 'measurement' table:")
columns = inspector.get_columns('measurement')
for column in columns:
    print(column["name"], column["type"])

# Find the most recent date in the data set.
most_recent_date = session.query(func.max(measurement.date)).scalar()
print("\nMost recent date in the data set:")
print (most_recent_date)


# Design a query to retrieve the last 12 months of precipitation data and plot the results. 
# Starting from the most recent data point in the database. 
print("Most recent date in the data set:")
print(most_recent_date)
    
# Calculate the date one year from the last date in data set.
most_recent_date = pd.Timestamp(most_recent_date)
one_year_back = most_recent_date - pd.DateOffset(years=1)
print("\nOne year from the most recent date in the data set:")
print(one_year_back)


# Perform a query to retrieve the data and precipitation scores
past_year_precipitation = session.query(measurement).\
    filter(measurement.date >= '2016-08-23').\
    filter(measurement.date <= '2017-08-23').\
    all()

for row in past_year_precipitation:
    print(row.date, row.prcp)


# Save the query results as a Pandas DataFrame. Explicitly set the column names
past_year_precipitation = [{'Date': row.date, 'Precipitation': row.prcp} for row in past_year_precipitation]
past_year_precipitation_df = pd.DataFrame(past_year_precipitation)
print(past_year_precipitation_df)


# Sort the dataframe by date
past_year_precipitation_sorted = past_year_precipitation_df.sort_values(by='Date')
past_year_precipitation_sorted = past_year_precipitation_sorted.reset_index(drop=True)
print(past_year_precipitation_sorted)


# Use Pandas Plotting with Matplotlib to plot the data
past_year_precipitation_sorted['Date'] = pd.to_datetime(past_year_precipitation_sorted['Date'])

x_axis = past_year_precipitation_sorted['Date']
y_axis = past_year_precipitation_sorted['Precipitation']

plt.bar(x_axis, y_axis, color='b', align="center", label="Precipitation")

plt.title("Precipitation in the last 12 months \nin Honolulu, Hawaii")
plt.xlabel("Date")
plt.ylabel("Inches")
plt.legend()

specific_dates = pd.to_datetime(['2016-08-23', '2016-11-09', '2017-01-28', '2017-04-18', '2017-07-10'])
tick_positions = [i for i, date in enumerate(x_axis) if date in specific_dates]
plt.xticks(ticks=x_axis[tick_positions], labels=[date.strftime('%Y-%m-%d') for date in x_axis[tick_positions]], rotation=90, ha='right')

plt.show()





# Use Pandas to calculate the summary statistics for the precipitation data
summary_stats = past_year_precipitation_sorted['Precipitation'].describe()
summary_stats = pd.DataFrame(summary_stats)
summary_stats






# Design a query to calculate the total number of stations in the dataset
total_stations = session.query(station.station).count()
total_stations


# Design a query to find the most active stations (i.e. which stations have the most rows?)
# List the stations and their counts in descending order.
station_counts = session.query(measurement.station,func.count(measurement.date)).group_by(measurement.station).order_by(func.count(measurement.date).desc()).all()
station_counts


# Using the most active station id from the previous query, calculate the lowest, highest, and average temperature.
station_id = 'USC00519281'

lowest_temperature = session.query(func.min(measurement.tobs))\
    .filter(measurement.station == station_id)\
    .scalar()
print("Lowest temperature of station USC00519281: ")
print(lowest_temperature)

highest_temperature = session.query(func.max(measurement.tobs))\
    .filter(measurement.station == station_id)\
    .scalar()
print("\nHighest temperature of station USC00519281: ")
print(highest_temperature)

average_temperature = session.query(func.avg(measurement.tobs))\
    .filter(measurement.station == station_id)\
    .scalar()
print("\nAverage temperature of station USC00519281: ")
print(average_temperature)


# Using the most active station id
# Query the last 12 months of temperature observation data for this station and plot the results as a histogram

past_year_temperature = session.query(measurement).\
    filter(measurement.date >= '2016-08-23').\
    filter(measurement.date <= '2017-08-23').\
    filter(measurement.station == 'USC00519281').\
    all()

past_year_temperature = [{'Date': row.date, 'Temperature': row.tobs} for row in past_year_temperature]
past_year_temperature_df = pd.DataFrame(past_year_temperature)

plt.hist(past_year_temperature_df['Temperature'], bins=12, color='b', edgecolor='black', label='Temperature')

plt.title("Temperature in the last 12 months at \nstation USC00519281 in Honolulu, Hawaii")
plt.xlabel("Temperature")
plt.ylabel("Frequency")
plt.legend()

plt.show()





# Close Session
session.close()
